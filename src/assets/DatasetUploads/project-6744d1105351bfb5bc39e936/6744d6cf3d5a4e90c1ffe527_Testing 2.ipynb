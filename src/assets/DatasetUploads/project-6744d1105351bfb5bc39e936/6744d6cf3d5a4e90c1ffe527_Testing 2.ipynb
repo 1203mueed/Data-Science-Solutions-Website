{
 "cells": [
  {
   "cell_type": "code",
   "execution_count": null,
   "id": "058abd26",
   "metadata": {
    "id": "5b10727b-f3be-4719-ab3d-9526563ea61d"
   },
   "outputs": [],
   "source": [
    "print(\"Hello world\")"
   ]
  },
  {
   "cell_type": "code",
   "execution_count": null,
   "id": "987d99af",
   "metadata": {
    "id": "d996f47b-6842-46a7-a511-ba5e45bc2172"
   },
   "outputs": [],
   "source": [
    "print(\"hh\")"
   ]
  },
  {
   "cell_type": "code",
   "execution_count": null,
   "id": "c824ef3a",
   "metadata": {
    "id": "664dd707-ac68-407f-9317-f39041fcd001"
   },
   "outputs": [],
   "source": [
    "print(\"hhh\")"
   ]
  },
  {
   "cell_type": "code",
   "execution_count": null,
   "id": "f111adf7",
   "metadata": {
    "id": "554a71b5-92e9-481f-b01c-900e0525f6f1"
   },
   "outputs": [],
   "source": [
    "import pandas as pd"
   ]
  },
  {
   "cell_type": "code",
   "execution_count": null,
   "id": "6825cc5e",
   "metadata": {
    "id": "40e4458e-dbda-4ddf-b5f9-19a2b31e7f47"
   },
   "outputs": [],
   "source": [
    "import pandas as pd"
   ]
  },
  {
   "cell_type": "code",
   "execution_count": null,
   "id": "fdbad787",
   "metadata": {
    "id": "ceba45d8-1a99-4a52-ab18-d5196eab42e2"
   },
   "outputs": [],
   "source": [
    "import os\n",
    "\n",
    "# Get the current working directory\n",
    "cwd = os.getcwd()\n",
    "print(\"Current working directory:\", cwd)"
   ]
  },
  {
   "cell_type": "code",
   "execution_count": null,
   "id": "3d834066",
   "metadata": {
    "id": "7cfee004-df57-4356-b25f-e600d86e5153"
   },
   "outputs": [],
   "source": []
  }
 ],
 "metadata": {},
 "nbformat": 4,
 "nbformat_minor": 5
}
