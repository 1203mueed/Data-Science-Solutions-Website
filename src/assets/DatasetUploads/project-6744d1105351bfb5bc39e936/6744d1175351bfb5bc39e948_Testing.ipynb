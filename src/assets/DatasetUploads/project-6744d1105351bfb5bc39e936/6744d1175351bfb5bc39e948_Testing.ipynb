{
  "cells": [
    {
      "cell_type": "code",
      "source": "print(\"Hello world\")",
      "metadata": {
        "id": "7a9dd528-a55f-4a02-b3f7-ab20a69c0982"
      },
      "outputs": [],
      "execution_count": null
    }
  ],
  "metadata": {},
  "nbformat": 4,
  "nbformat_minor": 5
}