{
 "cells": [
  {
   "cell_type": "code",
   "execution_count": null,
   "id": "e0c413dd",
   "metadata": {
    "id": "3221f372-585c-47d7-a96b-0dbe3b3b9053"
   },
   "outputs": [],
   "source": []
  },
  {
   "cell_type": "code",
   "execution_count": null,
   "id": "db1227c2",
   "metadata": {
    "id": "cd228782-44d4-4696-af9e-178a99ef6501"
   },
   "outputs": [],
   "source": [
    "print(\"Hello\")"
   ]
  }
 ],
 "metadata": {},
 "nbformat": 4,
 "nbformat_minor": 5
}
