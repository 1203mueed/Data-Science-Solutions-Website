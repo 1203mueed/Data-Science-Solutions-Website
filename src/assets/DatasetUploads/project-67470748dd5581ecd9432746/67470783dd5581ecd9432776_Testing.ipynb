{
 "cells": [
  {
   "cell_type": "code",
   "execution_count": null,
   "id": "df73e4bb",
   "metadata": {
    "id": "8e08253b-7b3f-4051-9506-20a60c19bc2f"
   },
   "outputs": [],
   "source": [
    "import pandas as pd\n",
    "df1 = pd.read_csv('newfeatures(in).csv')\n",
    "df2 = pd.read_csv('dataset-673a82f1b4719171cdfa4d93/testing dataset 1/derm12345_metadata_train.csv')"
   ]
  },
  {
   "cell_type": "code",
   "execution_count": null,
   "id": "e0c543c0",
   "metadata": {
    "id": "97ff543f-4470-43f9-a408-dfa69cb44d22"
   },
   "outputs": [],
   "source": [
    "df1.head()"
   ]
  },
  {
   "cell_type": "code",
   "execution_count": null,
   "id": "1681bc10",
   "metadata": {
    "id": "c4f659f3-824c-4ec1-8e25-6e5eb005647c"
   },
   "outputs": [],
   "source": [
    "df2.head()"
   ]
  },
  {
   "cell_type": "code",
   "execution_count": null,
   "id": "b750fd04",
   "metadata": {
    "id": "c4ce12d3-bb9a-4133-8361-ce283e70fd74"
   },
   "outputs": [],
   "source": [
    "df1.to_csv('output.csv')"
   ]
  },
  {
   "cell_type": "code",
   "execution_count": null,
   "id": "f57bdd95",
   "metadata": {
    "id": "07946043-c27b-4bdc-bf32-f762d6deaa19"
   },
   "outputs": [],
   "source": [
    "df1.to_csv('output.csv')"
   ]
  }
 ],
 "metadata": {},
 "nbformat": 4,
 "nbformat_minor": 5
}
