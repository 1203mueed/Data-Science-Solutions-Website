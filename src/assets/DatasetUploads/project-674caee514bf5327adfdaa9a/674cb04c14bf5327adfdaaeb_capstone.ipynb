{
  "cells": [
    {
      "cell_type": "code",
      "execution_count": null,
      "id": "13ae067d",
      "metadata": {
        "id": "d8a6dcdc-b838-49f7-9b76-a54ef2509116"
      },
      "outputs": [],
      "source": "import pandas as pd\ndf1 = pd.read_csv('newfeatures(in).csv')\ndf2 = pd.read_csv('dataset-673a82f1b4719171cdfa4d93/testing dataset 1/derm12345_metadata_train.csv')"
    },
    {
      "cell_type": "code",
      "execution_count": null,
      "id": "1874a992",
      "metadata": {
        "id": "bf2eb801-8f68-4130-9aab-33dd3e0143ac"
      },
      "outputs": [],
      "source": [
        "df1.head()"
      ]
    },
    {
      "cell_type": "code",
      "execution_count": null,
      "id": "723f8bfd",
      "metadata": {
        "id": "c46e2287-a95b-4791-ab26-2ca915e0ec0b"
      },
      "outputs": [],
      "source": [
        "df2.head()"
      ]
    },
    {
      "cell_type": "code",
      "execution_count": null,
      "id": "73293374",
      "metadata": {
        "id": "f31809b7-6251-4db7-8f5b-33e2f60b4da1"
      },
      "outputs": [],
      "source": [
        "df1.to_csv()"
      ]
    },
    {
      "cell_type": "code",
      "source": "df2.to_csv()",
      "metadata": {
        "id": "0714f2ae-a5ee-40a3-9110-9356f228b3c1"
      },
      "outputs": [],
      "execution_count": null
    }
  ],
  "metadata": {},
  "nbformat": 4,
  "nbformat_minor": 5
}