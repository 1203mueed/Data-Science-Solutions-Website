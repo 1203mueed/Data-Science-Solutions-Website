{
  "cells": [
    {
      "cell_type": "code",
      "execution_count": null,
      "id": "e0598e34",
      "metadata": {
        "id": "b1aad484-daf0-4314-bc9f-3bc97fe15671"
      },
      "outputs": [],
      "source": []
    },
    {
      "cell_type": "code",
      "execution_count": null,
      "id": "37ec95f3",
      "metadata": {
        "id": "d3e21e76-70ff-4922-aa87-47ee2147221e"
      },
      "outputs": [],
      "source": [
        "import pandas as pd\n",
        "normal_data = pd.read_csv('newfeatures(in).csv')\n",
        "data_provider_data = pd.read_csv('dataset-673a82f1b4719171cdfa4d93/testing dataset 1/derm12345_metadata_train.csv')"
      ]
    },
    {
      "cell_type": "code",
      "execution_count": null,
      "id": "d974b52a",
      "metadata": {
        "id": "285c8cad-c671-4cb3-b403-6ab6b2c41980"
      },
      "outputs": [],
      "source": []
    },
    {
      "cell_type": "code",
      "execution_count": null,
      "id": "1059e0d0",
      "metadata": {
        "id": "b23552d9-580e-43a1-b83b-8866a4762fb5"
      },
      "outputs": [],
      "source": [
        "normal_data.to_csv()"
      ]
    },
    {
      "cell_type": "code",
      "execution_count": null,
      "id": "e7655b1c",
      "metadata": {
        "id": "1c560e81-90df-4711-a4af-c40d3e30d1e1"
      },
      "outputs": [],
      "source": []
    },
    {
      "cell_type": "code",
      "source": "data_provider_data.to_csv()",
      "metadata": {
        "id": "c3839251-b1f5-4552-ada6-ba632831e382"
      },
      "outputs": [],
      "execution_count": null
    }
  ],
  "metadata": {},
  "nbformat": 4,
  "nbformat_minor": 5
}