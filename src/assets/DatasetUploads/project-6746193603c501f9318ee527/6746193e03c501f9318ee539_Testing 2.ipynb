{
 "cells": [
  {
   "cell_type": "code",
   "execution_count": null,
   "id": "b6f4337d",
   "metadata": {
    "id": "d3efb149-6959-4d36-a5ed-ab3bfd22ad48"
   },
   "outputs": [],
   "source": [
    "print(\"Hello!\")"
   ]
  },
  {
   "cell_type": "code",
   "execution_count": null,
   "id": "4414f962",
   "metadata": {
    "id": "f9796fe6-70d6-4f06-a09b-5be6dbb4bcef"
   },
   "outputs": [],
   "source": []
  }
 ],
 "metadata": {},
 "nbformat": 4,
 "nbformat_minor": 5
}
