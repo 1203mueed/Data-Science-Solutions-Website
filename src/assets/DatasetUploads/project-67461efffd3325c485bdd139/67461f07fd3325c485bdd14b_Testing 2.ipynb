{
 "cells": [
  {
   "cell_type": "code",
   "execution_count": null,
   "id": "81b05abb",
   "metadata": {
    "id": "d93b8763-4c7b-46a9-80ed-ab4f69fbd505"
   },
   "outputs": [],
   "source": [
    "print(\"Hello!\")"
   ]
  },
  {
   "cell_type": "code",
   "execution_count": null,
   "id": "3aef51b6",
   "metadata": {
    "id": "ee0ac22f-6fa7-4953-b70c-ff534a91501e"
   },
   "outputs": [],
   "source": [
    "import pandas as pd"
   ]
  }
 ],
 "metadata": {},
 "nbformat": 4,
 "nbformat_minor": 5
}
