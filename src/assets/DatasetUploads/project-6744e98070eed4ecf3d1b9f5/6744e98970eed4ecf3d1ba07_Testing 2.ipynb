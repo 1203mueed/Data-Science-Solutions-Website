{
 "cells": [
  {
   "cell_type": "code",
   "execution_count": null,
   "id": "b019087c",
   "metadata": {
    "id": "cf606fc4-662b-487e-9f73-a5fa89f13086"
   },
   "outputs": [],
   "source": [
    "import os\n",
    "\n",
    "# Get the current working directory\n",
    "cwd = os.getcwd()\n",
    "print(\"Current working directory:\", cwd)"
   ]
  },
  {
   "cell_type": "code",
   "execution_count": null,
   "id": "ecb81149",
   "metadata": {
    "id": "cbd55fdc-8aa7-4102-9d91-fcc8ca4a11e0"
   },
   "outputs": [],
   "source": [
    "print(\"Current working directory:\", cwd)"
   ]
  },
  {
   "cell_type": "code",
   "execution_count": null,
   "id": "8779be7f",
   "metadata": {
    "id": "ad9f8ae9-29a5-4364-9aba-606f2e9d8877"
   },
   "outputs": [],
   "source": [
    "import pandas as pd"
   ]
  },
  {
   "cell_type": "code",
   "execution_count": null,
   "id": "97ee6de6",
   "metadata": {
    "id": "4bb9ab1b-2096-4817-bc33-7c24826d5e5f"
   },
   "outputs": [],
   "source": [
    "# Print the version of pandas\n",
    "print(pd.__version__)"
   ]
  }
 ],
 "metadata": {},
 "nbformat": 4,
 "nbformat_minor": 5
}
