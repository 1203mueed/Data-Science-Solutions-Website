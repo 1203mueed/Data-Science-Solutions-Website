{
 "cells": [
  {
   "cell_type": "code",
   "execution_count": null,
   "id": "befed97f",
   "metadata": {
    "id": "5bf66839-e0b6-4000-a0dc-c5f9b45b1063"
   },
   "outputs": [],
   "source": [
    "print(\"Hello\")"
   ]
  },
  {
   "cell_type": "code",
   "execution_count": null,
   "id": "84cef4e5",
   "metadata": {
    "id": "d864607c-aa02-445c-a36c-a994b97e834b"
   },
   "outputs": [],
   "source": [
    "import pandas as pd"
   ]
  }
 ],
 "metadata": {},
 "nbformat": 4,
 "nbformat_minor": 5
}
