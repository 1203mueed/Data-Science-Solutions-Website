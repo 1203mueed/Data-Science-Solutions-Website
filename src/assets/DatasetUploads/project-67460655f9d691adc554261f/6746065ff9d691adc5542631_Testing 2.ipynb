{
 "cells": [
  {
   "cell_type": "code",
   "execution_count": null,
   "id": "659e4af5",
   "metadata": {
    "id": "53ab75a8-9a47-4247-9982-4ebf09cc82c7"
   },
   "outputs": [],
   "source": []
  },
  {
   "cell_type": "code",
   "execution_count": null,
   "id": "ffb93093",
   "metadata": {
    "id": "15f5356c-3d69-44d9-a942-4cc2ade9c084"
   },
   "outputs": [],
   "source": []
  },
  {
   "cell_type": "code",
   "execution_count": null,
   "id": "266c49aa",
   "metadata": {
    "id": "bc398b67-9fa0-4d0c-a95e-c44f2a66cc55"
   },
   "outputs": [],
   "source": []
  },
  {
   "cell_type": "code",
   "execution_count": null,
   "id": "952eed01",
   "metadata": {
    "id": "668c18d8-36cf-43f4-8a99-1a885c851565"
   },
   "outputs": [],
   "source": []
  },
  {
   "cell_type": "code",
   "execution_count": null,
   "id": "5178e46e",
   "metadata": {
    "id": "218b83c3-1975-457b-b776-937048199bcc"
   },
   "outputs": [],
   "source": []
  },
  {
   "cell_type": "code",
   "execution_count": null,
   "id": "8a969c66",
   "metadata": {
    "id": "c2f3d407-2047-49ec-a25d-055f1e90eb2c"
   },
   "outputs": [],
   "source": [
    "print(\"Hello\")"
   ]
  }
 ],
 "metadata": {},
 "nbformat": 4,
 "nbformat_minor": 5
}
