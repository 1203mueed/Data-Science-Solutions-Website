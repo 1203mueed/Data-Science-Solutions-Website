{
 "cells": [
  {
   "cell_type": "code",
   "execution_count": null,
   "id": "d122d5ef",
   "metadata": {
    "id": "4cdd27be-7212-4ed6-8ab0-d2860b562531"
   },
   "outputs": [],
   "source": [
    "print(\"Hello\")"
   ]
  },
  {
   "cell_type": "code",
   "execution_count": null,
   "id": "0ae24a7b",
   "metadata": {
    "id": "a79ba48d-308b-4769-8b6e-f5da9b60400a"
   },
   "outputs": [],
   "source": [
    "print(\"World\")"
   ]
  },
  {
   "cell_type": "code",
   "execution_count": null,
   "id": "0c95700a",
   "metadata": {
    "id": "fab79d1d-0437-42cc-8a02-e7076517363e"
   },
   "outputs": [],
   "source": [
    "import os\n",
    "\n",
    "# Get the current working directory\n",
    "cwd = os.getcwd()\n",
    "print(\"Current working directory:\", cwd)"
   ]
  },
  {
   "cell_type": "code",
   "execution_count": null,
   "id": "5b65a081",
   "metadata": {
    "id": "703127b3-05d3-46b5-a6b5-02bbb21c0a6a"
   },
   "outputs": [],
   "source": [
    "import pandas as pd\n",
    "\n",
    "# Read CSV file\n",
    "metadata = pd.read_csv('newfeatures(in).csv')\n",
    "\n",
    "# Display the first few rows of the dataframe\n",
    "metadata.head()"
   ]
  },
  {
   "cell_type": "code",
   "execution_count": null,
   "id": "cb73ed34",
   "metadata": {
    "id": "543d5d55-c837-4813-8b43-b2986865119c"
   },
   "outputs": [],
   "source": [
    "print(\"Current working directory:\", cwd)"
   ]
  }
 ],
 "metadata": {},
 "nbformat": 4,
 "nbformat_minor": 5
}
